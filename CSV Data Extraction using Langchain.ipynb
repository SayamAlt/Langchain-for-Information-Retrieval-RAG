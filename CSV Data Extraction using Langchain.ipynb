{
 "cells": [
  {
   "cell_type": "code",
   "execution_count": 1,
   "id": "205cdcb9",
   "metadata": {},
   "outputs": [],
   "source": [
    "from langchain_community.document_loaders import CSVLoader\n",
    "from getpass import getpass"
   ]
  },
  {
   "cell_type": "code",
   "execution_count": 2,
   "id": "88c284e5",
   "metadata": {},
   "outputs": [
    {
     "name": "stdout",
     "output_type": "stream",
     "text": [
      "········\n"
     ]
    }
   ],
   "source": [
    "HUGGINGFACEHUB_API_TOKEN = getpass()"
   ]
  },
  {
   "cell_type": "code",
   "execution_count": 3,
   "id": "80567910",
   "metadata": {},
   "outputs": [
    {
     "data": {
      "text/plain": [
       "<langchain_community.document_loaders.csv_loader.CSVLoader at 0x12acaf818d0>"
      ]
     },
     "execution_count": 3,
     "metadata": {},
     "output_type": "execute_result"
    }
   ],
   "source": [
    "loader = CSVLoader(file_path='Assessmentgrade.csv')\n",
    "loader"
   ]
  },
  {
   "cell_type": "code",
   "execution_count": 6,
   "id": "25e0c80d",
   "metadata": {},
   "outputs": [
    {
     "data": {
      "text/plain": [
       "[Document(page_content='Assessment: Quizzes\\nContribution: 15%\\nScore: 142.8\\nOut_of: 170', metadata={'source': 'Assessmentgrade.csv', 'row': 0}),\n",
       " Document(page_content='Assessment: Assignment1\\nContribution: 10%\\nScore: 38.4\\nOut_of: 40', metadata={'source': 'Assessmentgrade.csv', 'row': 1}),\n",
       " Document(page_content='Assessment: Assignment2\\nContribution: 10%\\nScore: 105.8\\nOut_of: 115', metadata={'source': 'Assessmentgrade.csv', 'row': 2}),\n",
       " Document(page_content='Assessment: Midterm_Exam\\nContribution: 20%\\nScore: 70.4\\nOut_of: 110', metadata={'source': 'Assessmentgrade.csv', 'row': 3}),\n",
       " Document(page_content='Assessment: Final_Exam\\nContribution: 45%\\nScore: 59.5\\nOut_of: 85', metadata={'source': 'Assessmentgrade.csv', 'row': 4})]"
      ]
     },
     "execution_count": 6,
     "metadata": {},
     "output_type": "execute_result"
    }
   ],
   "source": [
    "data = loader.load()\n",
    "data"
   ]
  },
  {
   "cell_type": "code",
   "execution_count": 8,
   "id": "835e6e9a",
   "metadata": {},
   "outputs": [
    {
     "name": "stdout",
     "output_type": "stream",
     "text": [
      "Assessment: Quizzes\n",
      "Contribution: 15%\n",
      "Score: 142.8\n",
      "Out_of: 170\n",
      "\n",
      "Assessment: Assignment1\n",
      "Contribution: 10%\n",
      "Score: 38.4\n",
      "Out_of: 40\n",
      "\n",
      "Assessment: Assignment2\n",
      "Contribution: 10%\n",
      "Score: 105.8\n",
      "Out_of: 115\n",
      "\n",
      "Assessment: Midterm_Exam\n",
      "Contribution: 20%\n",
      "Score: 70.4\n",
      "Out_of: 110\n",
      "\n",
      "Assessment: Final_Exam\n",
      "Contribution: 45%\n",
      "Score: 59.5\n",
      "Out_of: 85\n",
      "\n"
     ]
    }
   ],
   "source": [
    "for x in data:\n",
    "    print(x.page_content)\n",
    "    print()"
   ]
  }
 ],
 "metadata": {
  "kernelspec": {
   "display_name": "Python 3 (ipykernel)",
   "language": "python",
   "name": "python3"
  },
  "language_info": {
   "codemirror_mode": {
    "name": "ipython",
    "version": 3
   },
   "file_extension": ".py",
   "mimetype": "text/x-python",
   "name": "python",
   "nbconvert_exporter": "python",
   "pygments_lexer": "ipython3",
   "version": "3.11.5"
  }
 },
 "nbformat": 4,
 "nbformat_minor": 5
}
