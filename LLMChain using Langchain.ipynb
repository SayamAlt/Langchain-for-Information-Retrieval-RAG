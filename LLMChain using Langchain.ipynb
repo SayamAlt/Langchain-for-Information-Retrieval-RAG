{
 "cells": [
  {
   "cell_type": "code",
   "execution_count": 1,
   "id": "55c1b1e1",
   "metadata": {},
   "outputs": [],
   "source": [
    "from getpass import getpass\n",
    "import os\n",
    "from langchain.prompts import PromptTemplate\n",
    "from langchain.chains import LLMChain\n",
    "from langchain import HuggingFaceHub"
   ]
  },
  {
   "cell_type": "code",
   "execution_count": 2,
   "id": "18e3038d",
   "metadata": {},
   "outputs": [
    {
     "name": "stdout",
     "output_type": "stream",
     "text": [
      "········\n"
     ]
    }
   ],
   "source": [
    "HUGGINGFACEHUB_API_TOKEN = getpass()"
   ]
  },
  {
   "cell_type": "code",
   "execution_count": 3,
   "id": "bf0c7fdd",
   "metadata": {},
   "outputs": [],
   "source": [
    "os.environ['HUGGINGFACEHUB_API_TOKEN'] = HUGGINGFACEHUB_API_TOKEN"
   ]
  },
  {
   "cell_type": "code",
   "execution_count": 13,
   "id": "9e8cde56",
   "metadata": {},
   "outputs": [
    {
     "data": {
      "text/plain": [
       "HuggingFaceHub(client=<InferenceClient(model='mistralai/Mistral-7B-Instruct-v0.2', timeout=None)>, repo_id='mistralai/Mistral-7B-Instruct-v0.2', task='text-generation', model_kwargs={'temperature': 0.6, 'max_length': 500})"
      ]
     },
     "execution_count": 13,
     "metadata": {},
     "output_type": "execute_result"
    }
   ],
   "source": [
    "llm_model = HuggingFaceHub(repo_id='mistralai/Mistral-7B-Instruct-v0.2',\n",
    "                          model_kwargs={'temperature': 0.6, 'max_length': 500})\n",
    "llm_model"
   ]
  },
  {
   "cell_type": "code",
   "execution_count": 14,
   "id": "b6cdd8a1",
   "metadata": {},
   "outputs": [
    {
     "data": {
      "text/plain": [
       "PromptTemplate(input_variables=['product'], template='What can be a potential brand name that sells {product}')"
      ]
     },
     "execution_count": 14,
     "metadata": {},
     "output_type": "execute_result"
    }
   ],
   "source": [
    "prompt = PromptTemplate(input_variables=['product'],\n",
    "                       template=\"What can be a potential brand name that sells {product}\")\n",
    "prompt"
   ]
  },
  {
   "cell_type": "code",
   "execution_count": 15,
   "id": "ddad9233",
   "metadata": {},
   "outputs": [
    {
     "data": {
      "text/plain": [
       "LLMChain(prompt=PromptTemplate(input_variables=['product'], template='What can be a potential brand name that sells {product}'), llm=HuggingFaceHub(client=<InferenceClient(model='mistralai/Mistral-7B-Instruct-v0.2', timeout=None)>, repo_id='mistralai/Mistral-7B-Instruct-v0.2', task='text-generation', model_kwargs={'temperature': 0.6, 'max_length': 500}))"
      ]
     },
     "execution_count": 15,
     "metadata": {},
     "output_type": "execute_result"
    }
   ],
   "source": [
    "chain = LLMChain(llm=llm_model,prompt=prompt)\n",
    "chain"
   ]
  },
  {
   "cell_type": "code",
   "execution_count": 18,
   "id": "885eb801",
   "metadata": {},
   "outputs": [
    {
     "name": "stdout",
     "output_type": "stream",
     "text": [
      "What can be a potential brand name that sells television sets? Here are some suggestions:\n",
      "\n",
      "1. VisionView\n",
      "2. PixelPerfect\n",
      "3. CrystalClear\n",
      "4. ScreenSation\n",
      "5. PicturePro\n",
      "6. TVTastic\n",
      "7. HomeView\n",
      "8. LifeSize\n",
      "9. BrightEye\n",
      "10. ImageWorks\n",
      "11. TeleVisionary\n",
      "12. ScreenSensation\n",
      "13. ColorCraze\n",
      "14. TVTrendz\n",
      "1\n"
     ]
    }
   ],
   "source": [
    "res = chain.invoke(\"television\")\n",
    "print(res['text'])"
   ]
  },
  {
   "cell_type": "code",
   "execution_count": 19,
   "id": "6ca2eaff",
   "metadata": {},
   "outputs": [
    {
     "name": "stdout",
     "output_type": "stream",
     "text": [
      "What can be a potential brand name that sells mobile phones with a focus on technology and innovation? Here are a few suggestions:\n",
      "\n",
      "1. TechNexus: This name emphasizes the brand's focus on technology and innovation. It also has a futuristic feel that can appeal to tech-savvy consumers.\n",
      "2. NovaPhone: This name suggests a new and innovative approach to mobile phones. It also has a modern and sleek sound that can be appealing to consumers.\n",
      "3. InnoTech: This name\n"
     ]
    }
   ],
   "source": [
    "res = chain.invoke(\"mobile phones\")\n",
    "print(res['text'])"
   ]
  },
  {
   "cell_type": "code",
   "execution_count": 21,
   "id": "f4d11a56",
   "metadata": {},
   "outputs": [
    {
     "name": "stdout",
     "output_type": "stream",
     "text": [
      "What can be a potential brand name that sells laptops with an emphasis on their long battery life?\n",
      "\n",
      "Here are some potential brand names for a laptop company that emphasizes long battery life:\n",
      "\n",
      "1. PowerPulse: This name suggests a strong and consistent power source, implying long battery life.\n",
      "2. EnduraLaptop: The name Endura implies durability and long-lasting power, making it a great fit for a laptop brand that emphasizes battery life.\n",
      "3. LongLifeLaptops: This\n"
     ]
    }
   ],
   "source": [
    "res = chain.invoke(\"laptops\")\n",
    "print(res['text'])"
   ]
  },
  {
   "cell_type": "code",
   "execution_count": 22,
   "id": "d85dc616",
   "metadata": {},
   "outputs": [
    {
     "name": "stdout",
     "output_type": "stream",
     "text": [
      "What can be a potential brand name that sells AC units? Here are a few suggestions:\n",
      "\n",
      "1. CoolZone: This name suggests a comfortable and cool environment, which is exactly what an AC unit provides.\n",
      "2. ArcticAir: This name evokes the image of cold and refreshing air, which is perfect for an AC brand.\n",
      "3. Breezeway: This name suggests a refreshing and breezy feeling, which is what people want when they're hot and uncomfortable.\n",
      "4. ChillFactor\n"
     ]
    }
   ],
   "source": [
    "res = chain.invoke(\"AC\")\n",
    "print(res['text'])"
   ]
  },
  {
   "cell_type": "code",
   "execution_count": 23,
   "id": "025aa213",
   "metadata": {},
   "outputs": [
    {
     "name": "stdout",
     "output_type": "stream",
     "text": [
      "What can be a potential brand name that sells charger/power banks for smartphones?\n",
      "\n",
      "1. JuiceBox\n",
      "2. PowerPocket\n",
      "3. ChargeCube\n",
      "4. QuickCharger\n",
      "5. MyPower\n",
      "6. TurboBattery\n",
      "7. PowerHouse\n",
      "8. ChargeStation\n",
      "9. PocketPower\n",
      "10. BoostBuddy\n",
      "\n",
      "These are just a few suggestions, but they all convey the idea of charging or providing power to a device, particularly a smart\n"
     ]
    }
   ],
   "source": [
    "res = chain.invoke(\"charger\")\n",
    "print(res['text'])"
   ]
  },
  {
   "cell_type": "code",
   "execution_count": 24,
   "id": "3c6b5deb",
   "metadata": {},
   "outputs": [
    {
     "name": "stdout",
     "output_type": "stream",
     "text": [
      "What can be a potential brand name that sells keyboard covers that protect the keys from spills, dust, and other damages? The brand name should be catchy, memorable, and easily pronounceable. Here are some suggestions:\n",
      "\n",
      "1. KeyGuard: This name emphasizes the protective nature of the product. It is easy to remember and pronounce.\n",
      "2. KeebShield: This name incorporates the word \"keyboard\" and \"shield,\" making it clear what the product is for. It is also easy to\n"
     ]
    }
   ],
   "source": [
    "res = chain.invoke(\"keyboard\")\n",
    "print(res['text'])"
   ]
  },
  {
   "cell_type": "code",
   "execution_count": 25,
   "id": "4a6602ef",
   "metadata": {},
   "outputs": [
    {
     "name": "stdout",
     "output_type": "stream",
     "text": [
      "What can be a potential brand name that sells iPhones and provides repair services?\n",
      "\n",
      "A brand name for an iPhone retailer and repair service could be \"iFix & Sell.\" This name incorporates the repair aspect with the word \"fix,\" and the iPhone sales aspect with the word \"sell.\" Additionally, the \"i\" prefix emphasizes the connection to Apple's products. Another option could be \"iPhone Haven,\" which conveys a sense of being a go-to destination for all things iPhone-related.\n"
     ]
    }
   ],
   "source": [
    "res = chain.invoke(\"iPhones\")\n",
    "print(res['text'])"
   ]
  },
  {
   "cell_type": "code",
   "execution_count": 26,
   "id": "c417b54f",
   "metadata": {},
   "outputs": [
    {
     "name": "stdout",
     "output_type": "stream",
     "text": [
      "What can be a potential brand name that sells computer hardware to both consumers and businesses? Here are some suggestions:\n",
      "\n",
      "1. TechPro: This name suggests expertise and professionalism, positioning the brand as a trusted provider of computer hardware solutions for both consumers and businesses.\n",
      "2. Compulink: This name implies a strong connection to computers and technology, making it an attractive option for a brand that sells computer hardware.\n",
      "3. Hardware Hub: This name suggests a central location for all things related to computer hardware, making it\n"
     ]
    }
   ],
   "source": [
    "res = chain.invoke(\"computer\")\n",
    "print(res['text'])"
   ]
  }
 ],
 "metadata": {
  "kernelspec": {
   "display_name": "Python 3 (ipykernel)",
   "language": "python",
   "name": "python3"
  },
  "language_info": {
   "codemirror_mode": {
    "name": "ipython",
    "version": 3
   },
   "file_extension": ".py",
   "mimetype": "text/x-python",
   "name": "python",
   "nbconvert_exporter": "python",
   "pygments_lexer": "ipython3",
   "version": "3.11.5"
  }
 },
 "nbformat": 4,
 "nbformat_minor": 5
}
