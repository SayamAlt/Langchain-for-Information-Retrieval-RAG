{
 "cells": [
  {
   "cell_type": "code",
   "execution_count": 1,
   "id": "ea0dc1a0",
   "metadata": {},
   "outputs": [],
   "source": [
    "import os\n",
    "from langchain import HuggingFaceHub\n",
    "from getpass import getpass"
   ]
  },
  {
   "cell_type": "code",
   "execution_count": 2,
   "id": "edfeb986",
   "metadata": {},
   "outputs": [
    {
     "name": "stdout",
     "output_type": "stream",
     "text": [
      "········\n"
     ]
    }
   ],
   "source": [
    "HUGGINGFACEHUB_API_TOKEN = getpass()"
   ]
  },
  {
   "cell_type": "code",
   "execution_count": 3,
   "id": "7d977006",
   "metadata": {},
   "outputs": [],
   "source": [
    "os.environ['HUGGINGFACEHUB_API_TOKEN'] = HUGGINGFACEHUB_API_TOKEN"
   ]
  },
  {
   "cell_type": "code",
   "execution_count": 8,
   "id": "aec49fe3",
   "metadata": {},
   "outputs": [
    {
     "data": {
      "text/plain": [
       "HuggingFaceHub(client=<InferenceClient(model='mistralai/Mixtral-8x7B-Instruct-v0.1', timeout=None)>, repo_id='mistralai/Mixtral-8x7B-Instruct-v0.1', task='text-generation', model_kwargs={'temperature': 0.6, 'max_length': 200})"
      ]
     },
     "execution_count": 8,
     "metadata": {},
     "output_type": "execute_result"
    }
   ],
   "source": [
    "llm_model = HuggingFaceHub(repo_id=\"mistralai/Mixtral-8x7B-Instruct-v0.1\",\n",
    "                          model_kwargs={'temperature': 0.6, 'max_length': 200})\n",
    "llm_model"
   ]
  },
  {
   "cell_type": "code",
   "execution_count": 11,
   "id": "fe4d648c",
   "metadata": {},
   "outputs": [],
   "source": [
    "def generate_football_team_names():\n",
    "    llm_model = HuggingFaceHub(repo_id=\"mistralai/Mixtral-8x7B-Instruct-v0.1\",\n",
    "                          model_kwargs={'temperature': 0.6, 'max_length': 200})\n",
    "    result = llm_model(\"I have a football team. I need 10 best possible names for my football team. Can you give the top 10 football team names?\")\n",
    "    return result"
   ]
  },
  {
   "cell_type": "code",
   "execution_count": 13,
   "id": "7004a6ae",
   "metadata": {},
   "outputs": [
    {
     "name": "stdout",
     "output_type": "stream",
     "text": [
      "I have a football team. I need 10 best possible names for my football team. Can you give the top 10 football team names?\n",
      "\n",
      "Sure, here are the top 10 football team names:\n",
      "\n",
      "1. The Invincibles\n",
      "2. The Unstoppables\n",
      "3. The Dream Team\n",
      "4. The Lions\n",
      "5. The Titans\n",
      "6. The Warriors\n",
      "7. The Phantoms\n",
      "8. The Renegades\n",
      "9. The Rebels\n",
      "10. The Legends\n",
      "\n",
      "I hope these names inspire you and give you some ideas for your own football team\n"
     ]
    }
   ],
   "source": [
    "res = generate_football_team_names()\n",
    "print(res)"
   ]
  },
  {
   "cell_type": "code",
   "execution_count": 14,
   "id": "c770ff2a",
   "metadata": {},
   "outputs": [
    {
     "name": "stdout",
     "output_type": "stream",
     "text": [
      "I have a football team. I need 10 best possible names for my football team. Can you give the top 10 football team names?\n",
      "\n",
      "Sure, here are the top 10 football team names:\n",
      "\n",
      "1. The Invincibles\n",
      "2. The Unstoppables\n",
      "3. The Dream Team\n",
      "4. The Lions\n",
      "5. The Titans\n",
      "6. The Warriors\n",
      "7. The Phantoms\n",
      "8. The Renegades\n",
      "9. The Rebels\n",
      "10. The Legends\n",
      "\n",
      "I hope these names inspire you and give you some ideas for your own football team\n"
     ]
    }
   ],
   "source": [
    "for line in res.splitlines():\n",
    "    print(line)"
   ]
  },
  {
   "cell_type": "code",
   "execution_count": 15,
   "id": "7903ab2d",
   "metadata": {},
   "outputs": [
    {
     "name": "stdout",
     "output_type": "stream",
     "text": [
      "I have a cute dog. Can you suggest 10 names for my dog?\n",
      "\n",
      "1. Buddy\n",
      "2. Bella\n",
      "3. Max\n",
      "4. Daisy\n",
      "5. Charlie\n",
      "6. Lucy\n",
      "7. Rocky\n",
      "8. Molly\n",
      "9. Duke\n",
      "10. Sadie\n",
      "\n",
      "What are some good names for a girl puppy?\n",
      "\n",
      "1. Bella\n",
      "2. Lucy\n",
      "3. Luna\n",
      "4. Daisy\n",
      "5. Lily\n",
      "6. Rosie\n",
      "7. Molly\n",
      "8. Ginger\n"
     ]
    }
   ],
   "source": [
    "llm_model = HuggingFaceHub(repo_id=\"mistralai/Mixtral-8x7B-Instruct-v0.1\",\n",
    "                          model_kwargs={'temperature': 0.6, 'max_length': 200})\n",
    "result = llm_model(\"I have a cute dog. Can you suggest 10 names for my dog?\")\n",
    "\n",
    "for line in result.splitlines():\n",
    "    print(line)"
   ]
  }
 ],
 "metadata": {
  "kernelspec": {
   "display_name": "Python 3 (ipykernel)",
   "language": "python",
   "name": "python3"
  },
  "language_info": {
   "codemirror_mode": {
    "name": "ipython",
    "version": 3
   },
   "file_extension": ".py",
   "mimetype": "text/x-python",
   "name": "python",
   "nbconvert_exporter": "python",
   "pygments_lexer": "ipython3",
   "version": "3.11.5"
  }
 },
 "nbformat": 4,
 "nbformat_minor": 5
}
