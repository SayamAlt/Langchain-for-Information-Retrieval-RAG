{
 "cells": [
  {
   "cell_type": "code",
   "execution_count": 2,
   "id": "29bfbb1b",
   "metadata": {},
   "outputs": [],
   "source": [
    "from langchain_community.document_loaders import DirectoryLoader\n",
    "from getpass import getpass"
   ]
  },
  {
   "cell_type": "code",
   "execution_count": 3,
   "id": "d718e06d",
   "metadata": {},
   "outputs": [
    {
     "name": "stdout",
     "output_type": "stream",
     "text": [
      "········\n"
     ]
    }
   ],
   "source": [
    "HUGGINGFACEHUB_API_TOKEN = getpass()"
   ]
  },
  {
   "cell_type": "code",
   "execution_count": 4,
   "id": "4a313a51",
   "metadata": {},
   "outputs": [
    {
     "data": {
      "text/plain": [
       "<langchain_community.document_loaders.directory.DirectoryLoader at 0x1a80d5495d0>"
      ]
     },
     "execution_count": 4,
     "metadata": {},
     "output_type": "execute_result"
    }
   ],
   "source": [
    "loader = DirectoryLoader(path=\"text_files/\",glob=\"**/*.txt\")\n",
    "loader"
   ]
  },
  {
   "cell_type": "code",
   "execution_count": 5,
   "id": "4f9cda8e",
   "metadata": {},
   "outputs": [],
   "source": [
    "files = loader.load()"
   ]
  },
  {
   "cell_type": "code",
   "execution_count": 6,
   "id": "f673e268",
   "metadata": {},
   "outputs": [
    {
     "data": {
      "text/plain": [
       "5"
      ]
     },
     "execution_count": 6,
     "metadata": {},
     "output_type": "execute_result"
    }
   ],
   "source": [
    "len(files)"
   ]
  },
  {
   "cell_type": "code",
   "execution_count": 14,
   "id": "979ac902",
   "metadata": {},
   "outputs": [
    {
     "name": "stdout",
     "output_type": "stream",
     "text": [
      "Document Source: text_files\\samplefile3.txt\n",
      "Content: You can use os.getcwd() to verify that the current working directory has been successfully changed. This function returns the current working directory.\n",
      "------------------------------------------------------------------------------------------------------------------------\n",
      "\n",
      "Document Source: text_files\\sample_file1.txt\n",
      "Content: Replace '/path/to/new/directory' with the path of the directory you want to change to.\n",
      "------------------------------------------------------------------------------------------------------------------------\n",
      "\n",
      "Document Source: text_files\\sample_file2.txt\n",
      "Content: The os.chdir() function changes the current working directory to the specified directory.\n",
      "------------------------------------------------------------------------------------------------------------------------\n",
      "\n",
      "Document Source: text_files\\sample_file4.txt\n",
      "Content: I am particularly drawn to Touchwood PR's commitment to championing emerging and established creators and performers, as well as its dedication to building a more diverse and equitable screen industry. I believe my experience in [mention specific experiences or skills] aligns well with the responsibilities outlined in the job description, including collecting and distributing press clippings, updating media lists, drafting campaigns, and assisting with social media efforts.\n",
      "------------------------------------------------------------------------------------------------------------------------\n",
      "\n",
      "Document Source: text_files\\sample_file5.txt\n",
      "Content: Furthermore, I am impressed by Touchwood PR's track record of creating innovative and engaging campaigns for a wide variety of clients, including [mention some notable clients]. I am eager to contribute my creativity and hard work to continue this tradition of excellence.\n",
      "------------------------------------------------------------------------------------------------------------------------\n",
      "\n"
     ]
    }
   ],
   "source": [
    "for file in files:\n",
    "    print(\"Document Source:\", file.metadata['source'])\n",
    "    print(\"Content:\", file.page_content)\n",
    "    print(\"----\"*30)\n",
    "    print()"
   ]
  }
 ],
 "metadata": {
  "kernelspec": {
   "display_name": "Python 3 (ipykernel)",
   "language": "python",
   "name": "python3"
  },
  "language_info": {
   "codemirror_mode": {
    "name": "ipython",
    "version": 3
   },
   "file_extension": ".py",
   "mimetype": "text/x-python",
   "name": "python",
   "nbconvert_exporter": "python",
   "pygments_lexer": "ipython3",
   "version": "3.11.5"
  }
 },
 "nbformat": 4,
 "nbformat_minor": 5
}
