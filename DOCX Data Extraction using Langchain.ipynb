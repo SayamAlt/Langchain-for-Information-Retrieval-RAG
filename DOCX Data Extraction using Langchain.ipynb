{
 "cells": [
  {
   "cell_type": "code",
   "execution_count": 1,
   "id": "f487f7a5",
   "metadata": {},
   "outputs": [],
   "source": [
    "from langchain_community.document_loaders import Docx2txtLoader\n",
    "from getpass import getpass"
   ]
  },
  {
   "cell_type": "code",
   "execution_count": 2,
   "id": "66ade36a",
   "metadata": {},
   "outputs": [
    {
     "name": "stdout",
     "output_type": "stream",
     "text": [
      "········\n"
     ]
    }
   ],
   "source": [
    "HUGGINGFACEHUB_API_TOKEN = getpass()"
   ]
  },
  {
   "cell_type": "code",
   "execution_count": 3,
   "id": "0e5a47a0",
   "metadata": {},
   "outputs": [
    {
     "data": {
      "text/plain": [
       "<langchain_community.document_loaders.word_document.Docx2txtLoader at 0x1a5bf9d6790>"
      ]
     },
     "execution_count": 3,
     "metadata": {},
     "output_type": "execute_result"
    }
   ],
   "source": [
    "loader = Docx2txtLoader(file_path='Cover Letter.docx')\n",
    "loader"
   ]
  },
  {
   "cell_type": "code",
   "execution_count": 5,
   "id": "2ea81c68",
   "metadata": {},
   "outputs": [
    {
     "data": {
      "text/plain": [
       "[Document(page_content=\"Dear Touchwood PR Team,\\n\\nI am writing to apply for the internship position at Touchwood PR, as advertised on your website. With my strong passion for the Arts & Entertainment industries, excellent organizational skills, and a creative mindset, I am excited about the opportunity to contribute to your team and gain valuable experience in the field of publicity and promotions.\\n\\nThroughout my academic journey, I have developed a deep appreciation for the power of effective communication and its impact on the success of creative endeavors. As a dedicated and hardworking individual, I am eager to apply my skills and enthusiasm to support the innovative campaigns and initiatives undertaken by Touchwood PR.\\n\\nThe responsibilities outlined in the job description align perfectly with my interests and skill set. I am confident in my ability to collect and distribute press clippings, update media lists, and conduct promotional research. I am experienced in drafting engaging campaigns using platforms like Mailerlite and possess strong attention to detail when executing creative publicity copy. Furthermore, my ability to assist with event coordination and social media efforts will contribute to the success of Touchwood PR's projects.\\n\\nWorking collaboratively is one of my strengths, and I am excited about the opportunity to learn from and contribute to the talented team at Touchwood PR. I am well-equipped to handle time-sensitive tasks and administrative duties, ensuring that the workflow remains efficient and effective.\\n\\nTouchwood PR's commitment to supporting emerging and established creators, as well as fostering diversity and equity within the screen industry, strongly resonates with my values. I am eager to be part of a team that champions these principles and works towards building a more inclusive and vibrant arts community.\\n\\nThank you for considering my application. I have attached my resume for your review, providing further details on my qualifications and experiences. I am available for an interview at your convenience to discuss how my skills and passion align with Touchwood PR's mission. I look forward to the possibility of contributing to the success of Touchwood PR and gaining valuable insights into the field of publicity and promotions.\\n\\nThank you for your time and consideration.\\n\\nSincerely,\\n\\nSayam Kumar\", metadata={'source': 'Cover Letter.docx'})]"
      ]
     },
     "execution_count": 5,
     "metadata": {},
     "output_type": "execute_result"
    }
   ],
   "source": [
    "data = loader.load()\n",
    "data"
   ]
  },
  {
   "cell_type": "code",
   "execution_count": 7,
   "id": "ee1c797e",
   "metadata": {},
   "outputs": [
    {
     "name": "stdout",
     "output_type": "stream",
     "text": [
      "Dear Touchwood PR Team,\n",
      "\n",
      "I am writing to apply for the internship position at Touchwood PR, as advertised on your website. With my strong passion for the Arts & Entertainment industries, excellent organizational skills, and a creative mindset, I am excited about the opportunity to contribute to your team and gain valuable experience in the field of publicity and promotions.\n",
      "\n",
      "Throughout my academic journey, I have developed a deep appreciation for the power of effective communication and its impact on the success of creative endeavors. As a dedicated and hardworking individual, I am eager to apply my skills and enthusiasm to support the innovative campaigns and initiatives undertaken by Touchwood PR.\n",
      "\n",
      "The responsibilities outlined in the job description align perfectly with my interests and skill set. I am confident in my ability to collect and distribute press clippings, update media lists, and conduct promotional research. I am experienced in drafting engaging campaigns using platforms like Mailerlite and possess strong attention to detail when executing creative publicity copy. Furthermore, my ability to assist with event coordination and social media efforts will contribute to the success of Touchwood PR's projects.\n",
      "\n",
      "Working collaboratively is one of my strengths, and I am excited about the opportunity to learn from and contribute to the talented team at Touchwood PR. I am well-equipped to handle time-sensitive tasks and administrative duties, ensuring that the workflow remains efficient and effective.\n",
      "\n",
      "Touchwood PR's commitment to supporting emerging and established creators, as well as fostering diversity and equity within the screen industry, strongly resonates with my values. I am eager to be part of a team that champions these principles and works towards building a more inclusive and vibrant arts community.\n",
      "\n",
      "Thank you for considering my application. I have attached my resume for your review, providing further details on my qualifications and experiences. I am available for an interview at your convenience to discuss how my skills and passion align with Touchwood PR's mission. I look forward to the possibility of contributing to the success of Touchwood PR and gaining valuable insights into the field of publicity and promotions.\n",
      "\n",
      "Thank you for your time and consideration.\n",
      "\n",
      "Sincerely,\n",
      "\n",
      "Sayam Kumar\n"
     ]
    }
   ],
   "source": [
    "print(data[0].page_content)"
   ]
  }
 ],
 "metadata": {
  "kernelspec": {
   "display_name": "Python 3 (ipykernel)",
   "language": "python",
   "name": "python3"
  },
  "language_info": {
   "codemirror_mode": {
    "name": "ipython",
    "version": 3
   },
   "file_extension": ".py",
   "mimetype": "text/x-python",
   "name": "python",
   "nbconvert_exporter": "python",
   "pygments_lexer": "ipython3",
   "version": "3.11.5"
  }
 },
 "nbformat": 4,
 "nbformat_minor": 5
}
